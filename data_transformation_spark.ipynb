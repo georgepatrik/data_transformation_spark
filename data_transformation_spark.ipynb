{
 "cells": [
  {
   "cell_type": "code",
   "execution_count": 1,
   "metadata": {},
   "outputs": [],
   "source": [
    "import sys\n",
    "import os\n",
    "import csv\n",
    "import time\n",
    "import findspark\n",
    "findspark.init('/Users/georgepatrick/spark-2.4.3')"
   ]
  },
  {
   "cell_type": "code",
   "execution_count": 2,
   "metadata": {},
   "outputs": [],
   "source": [
    "from pyspark.sql import SQLContext, SparkSession, Row\n",
    "from pyspark import SparkContext, SparkConf\n",
    "from pyspark.sql.types import *"
   ]
  },
  {
   "cell_type": "code",
   "execution_count": 3,
   "metadata": {},
   "outputs": [],
   "source": [
    "spark = SparkSession.builder.master(\"local[2]\").appName(\"link\").getOrCreate()\n",
    "sc = spark.sparkContext\n",
    "spark.sparkContext.setLogLevel(\"ERROR\")"
   ]
  },
  {
   "cell_type": "code",
   "execution_count": 4,
   "metadata": {},
   "outputs": [],
   "source": [
    "from pyspark.sql.functions import udf, struct, split, when, regexp_extract\n",
    "from pyspark.sql.types import IntegerType, FloatType, ArrayType\n",
    "from pyspark.ml.linalg import Vectors, VectorUDT\n",
    "from pyspark.sql import functions as F"
   ]
  },
  {
   "cell_type": "code",
   "execution_count": 5,
   "metadata": {},
   "outputs": [],
   "source": [
    "#import the text file \n",
    "txt = sc.textFile(\"/Users/georgepatrick/Logismos/output_debug.txt\")"
   ]
  },
  {
   "cell_type": "code",
   "execution_count": 6,
   "metadata": {},
   "outputs": [],
   "source": [
    "#create an rdd \n",
    "rdd = txt.mapPartitions(lambda x: csv.reader(x, delimiter=\" \"))"
   ]
  },
  {
   "cell_type": "code",
   "execution_count": 7,
   "metadata": {},
   "outputs": [],
   "source": [
    "#tranform rdd to dataframe\n",
    "df1 = rdd.toDF(['date','time1','time2','extra_space','tz','id','label'])\n",
    "#df1.show(34)"
   ]
  },
  {
   "cell_type": "code",
   "execution_count": 25,
   "metadata": {},
   "outputs": [
    {
     "name": "stdout",
     "output_type": "stream",
     "text": [
      "+---+-----+------------------+\n",
      "| id|label|             time1|\n",
      "+---+-----+------------------+\n",
      "|  1|start|04.17.41.721000000|\n",
      "|  1|  end|04.17.41.736000000|\n",
      "|  2|start|04.17.41.752000000|\n",
      "|  2|  end|04.17.41.767000000|\n",
      "|  3|start|04.17.41.783000000|\n",
      "|  3|  end|04.17.41.799000000|\n",
      "|  4|start|04.17.41.814000000|\n",
      "|  4|  end|04.17.41.830000000|\n",
      "|  5|start|04.17.41.846000000|\n",
      "|  5|  end|04.17.41.861000000|\n",
      "|  6|start|04.17.41.877000000|\n",
      "|  6|  end|04.17.41.892000000|\n",
      "|  7|start|04.17.41.908000000|\n",
      "|  7|  end|04.17.45.788000000|\n",
      "|  8|start|04.17.45.819000000|\n",
      "|  8|  end|04.17.46.553000000|\n",
      "|  9|start|04.17.46.569000000|\n",
      "|  9|  end|04.17.46.631000000|\n",
      "| 10|start|04.17.46.647000000|\n",
      "| 10|  end|04.17.46.663000000|\n",
      "+---+-----+------------------+\n",
      "only showing top 20 rows\n",
      "\n"
     ]
    }
   ],
   "source": [
    "#select the columns of interest\n",
    "df2 = df1.select([\"id\",\"label\",\"time1\"])\n",
    "#df2.show()"
   ]
  },
  {
   "cell_type": "code",
   "execution_count": 26,
   "metadata": {},
   "outputs": [
    {
     "name": "stdout",
     "output_type": "stream",
     "text": [
      "+---+-----+--------+\n",
      "| id|label| time_pp|\n",
      "+---+-----+--------+\n",
      "|  1|start|04.17.41|\n",
      "|  1|  end|04.17.41|\n",
      "|  2|start|04.17.41|\n",
      "|  2|  end|04.17.41|\n",
      "|  3|start|04.17.41|\n",
      "|  3|  end|04.17.41|\n",
      "|  4|start|04.17.41|\n",
      "|  4|  end|04.17.41|\n",
      "|  5|start|04.17.41|\n",
      "|  5|  end|04.17.41|\n",
      "|  6|start|04.17.41|\n",
      "|  6|  end|04.17.41|\n",
      "|  7|start|04.17.41|\n",
      "|  7|  end|04.17.45|\n",
      "|  8|start|04.17.45|\n",
      "|  8|  end|04.17.46|\n",
      "|  9|start|04.17.46|\n",
      "|  9|  end|04.17.46|\n",
      "| 10|start|04.17.46|\n",
      "| 10|  end|04.17.46|\n",
      "+---+-----+--------+\n",
      "only showing top 20 rows\n",
      "\n"
     ]
    }
   ],
   "source": [
    "#regex to time column and create new col without milliseconds\n",
    "df3 = df2.withColumn('time_pp',regexp_extract(df2['time1'], '\\d{2}\\.\\d{2}\\.\\d{2}',0)).drop('time1')"
   ]
  },
  {
   "cell_type": "code",
   "execution_count": 27,
   "metadata": {},
   "outputs": [],
   "source": [
    "#split col time pp and extract hour, minute, second in string type\n",
    "df4 = df3.withColumn('time_splitted', F.split(df3['time_pp'], '\\.'))\\\n",
    "         .withColumn('hour', F.col('time_splitted')[0])\\\n",
    "         .withColumn('minute', F.col('time_splitted')[1])\\\n",
    "         .withColumn('second', F.col('time_splitted')[2])\n",
    "#df4.show()"
   ]
  },
  {
   "cell_type": "code",
   "execution_count": 15,
   "metadata": {},
   "outputs": [
    {
     "name": "stdout",
     "output_type": "stream",
     "text": [
      "+---+-----+--------+-------------+--------+----------+----------+-----------+\n",
      "| id|label| time_pp|time_splitted|hour_int|minute_int|second_int|seconds_sum|\n",
      "+---+-----+--------+-------------+--------+----------+----------+-----------+\n",
      "|  1|start|04.17.41| [04, 17, 41]|   14400|      1020|        41|      15461|\n",
      "|  1|  end|04.17.41| [04, 17, 41]|   14400|      1020|        41|      15461|\n",
      "|  2|start|04.17.41| [04, 17, 41]|   14400|      1020|        41|      15461|\n",
      "|  2|  end|04.17.41| [04, 17, 41]|   14400|      1020|        41|      15461|\n",
      "|  3|start|04.17.41| [04, 17, 41]|   14400|      1020|        41|      15461|\n",
      "|  3|  end|04.17.41| [04, 17, 41]|   14400|      1020|        41|      15461|\n",
      "|  4|start|04.17.41| [04, 17, 41]|   14400|      1020|        41|      15461|\n",
      "|  4|  end|04.17.41| [04, 17, 41]|   14400|      1020|        41|      15461|\n",
      "|  5|start|04.17.41| [04, 17, 41]|   14400|      1020|        41|      15461|\n",
      "|  5|  end|04.17.41| [04, 17, 41]|   14400|      1020|        41|      15461|\n",
      "|  6|start|04.17.41| [04, 17, 41]|   14400|      1020|        41|      15461|\n",
      "|  6|  end|04.17.41| [04, 17, 41]|   14400|      1020|        41|      15461|\n",
      "|  7|start|04.17.41| [04, 17, 41]|   14400|      1020|        41|      15461|\n",
      "|  7|  end|04.17.45| [04, 17, 45]|   14400|      1020|        45|      15465|\n",
      "|  8|start|04.17.45| [04, 17, 45]|   14400|      1020|        45|      15465|\n",
      "|  8|  end|04.17.46| [04, 17, 46]|   14400|      1020|        46|      15466|\n",
      "|  9|start|04.17.46| [04, 17, 46]|   14400|      1020|        46|      15466|\n",
      "|  9|  end|04.17.46| [04, 17, 46]|   14400|      1020|        46|      15466|\n",
      "| 10|start|04.17.46| [04, 17, 46]|   14400|      1020|        46|      15466|\n",
      "| 10|  end|04.17.46| [04, 17, 46]|   14400|      1020|        46|      15466|\n",
      "| 11|start|04.17.46| [04, 17, 46]|   14400|      1020|        46|      15466|\n",
      "| 11|  end|04.17.46| [04, 17, 46]|   14400|      1020|        46|      15466|\n",
      "| 12|start|04.17.46| [04, 17, 46]|   14400|      1020|        46|      15466|\n",
      "| 12|  end|04.17.46| [04, 17, 46]|   14400|      1020|        46|      15466|\n",
      "| 13|start|04.17.46| [04, 17, 46]|   14400|      1020|        46|      15466|\n",
      "| 13|  end|04.17.46| [04, 17, 46]|   14400|      1020|        46|      15466|\n",
      "| 14|start|04.17.46| [04, 17, 46]|   14400|      1020|        46|      15466|\n",
      "| 14|  end|04.17.46| [04, 17, 46]|   14400|      1020|        46|      15466|\n",
      "| 15|start|04.17.46| [04, 17, 46]|   14400|      1020|        46|      15466|\n",
      "| 15|  end|04.18.11| [04, 18, 11]|   14400|      1080|        11|      15491|\n",
      "| 16|start|04.18.11| [04, 18, 11]|   14400|      1080|        11|      15491|\n",
      "| 16|  end|04.18.11| [04, 18, 11]|   14400|      1080|        11|      15491|\n",
      "| 17|start|04.18.11| [04, 18, 11]|   14400|      1080|        11|      15491|\n",
      "| 17|  end|04.18.11| [04, 18, 11]|   14400|      1080|        11|      15491|\n",
      "+---+-----+--------+-------------+--------+----------+----------+-----------+\n",
      "\n"
     ]
    }
   ],
   "source": [
    "#transform string type cols to ints \n",
    "df5 = df4.withColumn('hour_int', df4['hour'].cast(IntegerType())*60*60)\\\n",
    "         .withColumn('minute_int', df4['minute'].cast(IntegerType())*60)\\\n",
    "         .withColumn('second_int', df4['second'].cast(IntegerType()))\\\n",
    "         .drop('hour','minute','second')\n",
    "         \n",
    "#create new col sum of seconds\n",
    "df6 = df5.withColumn('seconds_sum', df5['hour_int']+df5['minute_int']+df5['second_int'])\n",
    "df6.show(40)"
   ]
  },
  {
   "cell_type": "code",
   "execution_count": 16,
   "metadata": {},
   "outputs": [
    {
     "name": "stdout",
     "output_type": "stream",
     "text": [
      "+--------+-------------+\n",
      "|id_start|seconds_start|\n",
      "+--------+-------------+\n",
      "|       1|        15461|\n",
      "|       2|        15461|\n",
      "|       3|        15461|\n",
      "|       4|        15461|\n",
      "|       5|        15461|\n",
      "|       6|        15461|\n",
      "|       7|        15461|\n",
      "|       8|        15465|\n",
      "|       9|        15466|\n",
      "|      10|        15466|\n",
      "|      11|        15466|\n",
      "|      12|        15466|\n",
      "|      13|        15466|\n",
      "|      14|        15466|\n",
      "|      15|        15466|\n",
      "|      16|        15491|\n",
      "|      17|        15491|\n",
      "+--------+-------------+\n",
      "\n",
      "+------+-----------+\n",
      "|id_end|seconds_end|\n",
      "+------+-----------+\n",
      "|     1|      15461|\n",
      "|     2|      15461|\n",
      "|     3|      15461|\n",
      "|     4|      15461|\n",
      "|     5|      15461|\n",
      "|     6|      15461|\n",
      "|     7|      15465|\n",
      "|     8|      15466|\n",
      "|     9|      15466|\n",
      "|    10|      15466|\n",
      "|    11|      15466|\n",
      "|    12|      15466|\n",
      "|    13|      15466|\n",
      "|    14|      15466|\n",
      "|    15|      15491|\n",
      "|    16|      15491|\n",
      "|    17|      15491|\n",
      "+------+-----------+\n",
      "\n"
     ]
    },
    {
     "data": {
      "text/plain": [
       "(None, None)"
      ]
     },
     "execution_count": 16,
     "metadata": {},
     "output_type": "execute_result"
    }
   ],
   "source": [
    "#create dataframe with label == start and label = end and prepare for join \n",
    "df_start = df6.select(['id','label','seconds_sum'])\\\n",
    "              .filter(df6['label']=='start')\\\n",
    "              .withColumnRenamed('id', 'id_start')\\\n",
    "              .withColumnRenamed('seconds_sum', 'seconds_start')\\\n",
    "              .drop('label')\n",
    "\n",
    "df_end = df6.select(['id','label','seconds_sum'])\\\n",
    "              .filter(df6['label']=='end')\\\n",
    "              .withColumnRenamed('id', 'id_end')\\\n",
    "              .withColumnRenamed('seconds_sum', 'seconds_end')\\\n",
    "              .drop('label')\n",
    "\n",
    "df_start.show(), df_end.show()"
   ]
  },
  {
   "cell_type": "code",
   "execution_count": 28,
   "metadata": {},
   "outputs": [
    {
     "name": "stdout",
     "output_type": "stream",
     "text": [
      "+--------+-------------+------+-----------+\n",
      "|id_start|seconds_start|id_end|seconds_end|\n",
      "+--------+-------------+------+-----------+\n",
      "|       7|        15461|     7|      15465|\n",
      "|      15|        15466|    15|      15491|\n",
      "|      11|        15466|    11|      15466|\n",
      "|       3|        15461|     3|      15461|\n",
      "|       8|        15465|     8|      15466|\n",
      "|      16|        15491|    16|      15491|\n",
      "|       5|        15461|     5|      15461|\n",
      "|      17|        15491|    17|      15491|\n",
      "|       6|        15461|     6|      15461|\n",
      "|       9|        15466|     9|      15466|\n",
      "|       1|        15461|     1|      15461|\n",
      "|      10|        15466|    10|      15466|\n",
      "|       4|        15461|     4|      15461|\n",
      "|      12|        15466|    12|      15466|\n",
      "|      13|        15466|    13|      15466|\n",
      "|      14|        15466|    14|      15466|\n",
      "|       2|        15461|     2|      15461|\n",
      "+--------+-------------+------+-----------+\n",
      "\n"
     ]
    }
   ],
   "source": [
    "#join the dfs \n",
    "joindf1 = df_start.join(df_end, df_start.id_start == df_end.id_end)\n",
    "joindf1.show()"
   ]
  },
  {
   "cell_type": "code",
   "execution_count": 29,
   "metadata": {},
   "outputs": [
    {
     "name": "stdout",
     "output_type": "stream",
     "text": [
      "+---+-------------+-----------+----+\n",
      "| id|seconds_start|seconds_end|diff|\n",
      "+---+-------------+-----------+----+\n",
      "|  1|        15461|      15461|   0|\n",
      "| 10|        15466|      15466|   0|\n",
      "| 11|        15466|      15466|   0|\n",
      "| 12|        15466|      15466|   0|\n",
      "| 13|        15466|      15466|   0|\n",
      "| 14|        15466|      15466|   0|\n",
      "| 15|        15466|      15491|  25|\n",
      "| 16|        15491|      15491|   0|\n",
      "| 17|        15491|      15491|   0|\n",
      "|  2|        15461|      15461|   0|\n",
      "|  3|        15461|      15461|   0|\n",
      "|  4|        15461|      15461|   0|\n",
      "|  5|        15461|      15461|   0|\n",
      "|  6|        15461|      15461|   0|\n",
      "|  7|        15461|      15465|   4|\n",
      "|  8|        15465|      15466|   1|\n",
      "|  9|        15466|      15466|   0|\n",
      "+---+-------------+-----------+----+\n",
      "\n"
     ]
    }
   ],
   "source": [
    "#rename cols not in need in order to drop them also create the difference col \n",
    "joindf2 = joindf1.withColumnRenamed('id_start', 'id')\\\n",
    "                 .withColumn('diff', joindf1['seconds_end']-joindf1['seconds_start'])\\\n",
    "                 .drop('id_end').sort(\"id\")\n",
    "joindf2.show()"
   ]
  },
  {
   "cell_type": "code",
   "execution_count": 31,
   "metadata": {},
   "outputs": [
    {
     "name": "stdout",
     "output_type": "stream",
     "text": [
      "+---+----+\n",
      "| id|diff|\n",
      "+---+----+\n",
      "| 15|  25|\n",
      "|  7|   4|\n",
      "|  8|   1|\n",
      "| 11|   0|\n",
      "|  3|   0|\n",
      "| 16|   0|\n",
      "| 17|   0|\n",
      "|  6|   0|\n",
      "| 10|   0|\n",
      "|  5|   0|\n",
      "| 14|   0|\n",
      "|  9|   0|\n",
      "|  1|   0|\n",
      "|  4|   0|\n",
      "| 12|   0|\n",
      "| 13|   0|\n",
      "|  2|   0|\n",
      "+---+----+\n",
      "\n"
     ]
    }
   ],
   "source": [
    "#drop col not in need and sort diff desc\n",
    "joindf3 = joindf2.drop('seconds_start','seconds_end').sort(\"diff\",ascending=False)\n",
    "joindf3.show()"
   ]
  },
  {
   "cell_type": "code",
   "execution_count": null,
   "metadata": {},
   "outputs": [],
   "source": []
  }
 ],
 "metadata": {
  "kernelspec": {
   "display_name": "Python 3",
   "language": "python",
   "name": "python3"
  },
  "language_info": {
   "codemirror_mode": {
    "name": "ipython",
    "version": 3
   },
   "file_extension": ".py",
   "mimetype": "text/x-python",
   "name": "python",
   "nbconvert_exporter": "python",
   "pygments_lexer": "ipython3",
   "version": "3.7.3"
  },
  "varInspector": {
   "cols": {
    "lenName": 16,
    "lenType": 16,
    "lenVar": 40
   },
   "kernels_config": {
    "python": {
     "delete_cmd_postfix": "",
     "delete_cmd_prefix": "del ",
     "library": "var_list.py",
     "varRefreshCmd": "print(var_dic_list())"
    },
    "r": {
     "delete_cmd_postfix": ") ",
     "delete_cmd_prefix": "rm(",
     "library": "var_list.r",
     "varRefreshCmd": "cat(var_dic_list()) "
    }
   },
   "types_to_exclude": [
    "module",
    "function",
    "builtin_function_or_method",
    "instance",
    "_Feature"
   ],
   "window_display": false
  }
 },
 "nbformat": 4,
 "nbformat_minor": 2
}
